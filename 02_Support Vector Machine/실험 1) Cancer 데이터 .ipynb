{
 "cells": [
  {
   "cell_type": "code",
   "execution_count": 1,
   "id": "e100a207",
   "metadata": {},
   "outputs": [],
   "source": [
    "from sklearn import datasets\n",
    "from sklearn.svm import SVC\n",
    "from sklearn.decomposition import PCA as RandomizedPCA\n",
    "from sklearn.pipeline import make_pipeline\n",
    "from sklearn.model_selection  import train_test_split\n",
    "from sklearn.metrics import classification_report\n",
    "from sklearn import metrics\n",
    "\n",
    "from sklearn.model_selection  import GridSearchCV\n",
    "import matplotlib.pyplot as plt\n",
    "\n",
    "import numpy as np\n",
    "import pandas as pd\n",
    "\n",
    "import warnings\n",
    "warnings.filterwarnings('ignore')"
   ]
  },
  {
   "cell_type": "markdown",
   "id": "08c34f0a",
   "metadata": {},
   "source": [
    "### 1. 데이터 준비"
   ]
  },
  {
   "cell_type": "markdown",
   "id": "523b1531",
   "metadata": {},
   "source": [
    "테이블 데이터 cancer 사용한다. \n",
    "\n",
    "데이터는 13개의 변수를 가지고 있으며, 양성과 음성으로 라벨이 구분되어 있다. "
   ]
  },
  {
   "cell_type": "code",
   "execution_count": 2,
   "id": "7245fa1a",
   "metadata": {},
   "outputs": [],
   "source": [
    "cancer = datasets.load_breast_cancer()"
   ]
  },
  {
   "cell_type": "markdown",
   "id": "97f9d014",
   "metadata": {},
   "source": [
    "분류기 성능을 평가하기 위해 데이터를 train data와 test data로 분할한다."
   ]
  },
  {
   "cell_type": "code",
   "execution_count": 3,
   "id": "0cb67446",
   "metadata": {},
   "outputs": [],
   "source": [
    "X_train, X_test, y_train, y_test = train_test_split(cancer.data, cancer.target, test_size=0.3,random_state=109) # 70% training and 30% test"
   ]
  },
  {
   "cell_type": "markdown",
   "id": "31c37c49",
   "metadata": {},
   "source": [
    "### 2. 실험 진행"
   ]
  },
  {
   "cell_type": "markdown",
   "id": "687774bb",
   "metadata": {},
   "source": [
    "✅ **실험은 총 6가지 세팅으로 진행한다** ✅\n",
    "\n",
    "\n",
    "\n",
    "\n",
    "✔ 1,2,3번 실험 : 원본 데이터에 서로 다른 3가지 kernel 함수를 적용한 모델 3가지 \n",
    "    \n",
    "    - pipeline을 사용하여 모델 구성\n",
    "\n",
    "    - 그리드 서치 cross-validation을 사용하여 최적의 매개변수 조합을 탐색\n",
    "    \n",
    "    - 매개변수는 margin hardness를 조절하는 C와 RBF kernel의 사이즈를 조절하는 gamma로 설정\n",
    "\n",
    "\n",
    "\n",
    "✔ 4,5,6번 실험 : 원본 데이터에 PCA를 적용하여 차원을 축소한 뒤 3가지 kernel 함수를 적용한 모델 3가지\n",
    "    \n",
    "    - 시각화를 위해 pipeline 사용하지 않고, PCA와 SVC 따로 진행\n",
    "    \n",
    "    - kernel 함수를 적용한 데이터 2차원 plot에 시각화\n",
    "\n"
   ]
  },
  {
   "cell_type": "markdown",
   "id": "5f8eff8d",
   "metadata": {},
   "source": [
    "#### 1. Linear Kernel SVC 사용\n"
   ]
  },
  {
   "cell_type": "code",
   "execution_count": 4,
   "id": "173697ac",
   "metadata": {},
   "outputs": [
    {
     "name": "stdout",
     "output_type": "stream",
     "text": [
      "CPU times: total: 2min 56s\n",
      "Wall time: 2min 56s\n",
      "{'svc__C': 1, 'svc__gamma': 0.0001}\n",
      "Accuracy: 0.9590643274853801\n",
      "Precision: 0.9809523809523809\n",
      "Recall: 0.9537037037037037\n",
      "f1_score: 0.9671361502347416\n"
     ]
    }
   ],
   "source": [
    "svc = SVC(kernel='linear', class_weight='balanced')\n",
    "model = make_pipeline(svc) \n",
    "\n",
    "'''파라미터 튜닝'''\n",
    "param_grid = {'svc__C': [1, 5, 10, 50],\n",
    "              'svc__gamma': [0.0001, 0.0005, 0.001, 0.005]}\n",
    "grid = GridSearchCV(model, param_grid) # (학습시킬 모델, 파라미터 후보들)\n",
    "\n",
    "%time grid.fit(X_train, y_train)\n",
    "print(grid.best_params_)\n",
    "\n",
    "'''X_test로 예측'''\n",
    "model = grid.best_estimator_\n",
    "y_pred = model.predict(X_test)\n",
    "\n",
    "'''4가지 지표로 평가'''\n",
    "print(\"Accuracy:\",metrics.accuracy_score(y_test, y_pred))\n",
    "print(\"Precision:\",metrics.precision_score(y_test, y_pred))\n",
    "print(\"Recall:\",metrics.recall_score(y_test, y_pred))\n",
    "print(\"f1_score:\",metrics.f1_score(y_test, y_pred))"
   ]
  },
  {
   "cell_type": "markdown",
   "id": "60f8a84b",
   "metadata": {},
   "source": [
    "#### 2. Polynomial Kernel SVC 사용"
   ]
  },
  {
   "cell_type": "code",
   "execution_count": 21,
   "id": "1fa6c0bd",
   "metadata": {},
   "outputs": [
    {
     "name": "stdout",
     "output_type": "stream",
     "text": [
      "CPU times: total: 375 ms\n",
      "Wall time: 374 ms\n",
      "{'svc__C': 50, 'svc__gamma': 0.005}\n",
      "Accuracy: 0.631578947368421\n",
      "Precision: 0.631578947368421\n",
      "Recall: 1.0\n",
      "f1_score: 0.7741935483870968\n"
     ]
    }
   ],
   "source": [
    "svc = SVC(kernel='poly', class_weight='balanced')\n",
    "model = make_pipeline(svc) \n",
    "\n",
    "'''파라미터 튜닝'''\n",
    "param_grid = {'svc__C': [1, 5, 10, 50],\n",
    "              'svc__gamma': [0.0001, 0.0005, 0.001, 0.005]}\n",
    "grid = GridSearchCV(model, param_grid) # (학습시킬 모델, 파라미터 후보들)\n",
    "\n",
    "%time grid.fit(X_train, y_train)\n",
    "print(grid.best_params_)\n",
    "\n",
    "'''X_test로 예측'''\n",
    "model = grid.best_estimator_\n",
    "y_pred = model.predict(X_test)\n",
    "\n",
    "'''4가지 지표로 평가'''\n",
    "print(\"Accuracy:\",metrics.accuracy_score(y_test, y_pred))\n",
    "print(\"Precision:\",metrics.precision_score(y_test, y_pred))\n",
    "print(\"Recall:\",metrics.recall_score(y_test, y_pred))\n",
    "print(\"f1_score:\",metrics.f1_score(y_test, y_pred))"
   ]
  },
  {
   "cell_type": "markdown",
   "id": "1c35d0a9",
   "metadata": {},
   "source": [
    "#### 3. RBF Kernel SVC 사용"
   ]
  },
  {
   "cell_type": "code",
   "execution_count": 5,
   "id": "fea35e45",
   "metadata": {},
   "outputs": [
    {
     "name": "stdout",
     "output_type": "stream",
     "text": [
      "CPU times: total: 625 ms\n",
      "Wall time: 618 ms\n",
      "{'svc__C': 1, 'svc__gamma': 0.0001}\n",
      "Accuracy: 0.9766081871345029\n",
      "Precision: 0.9814814814814815\n",
      "Recall: 0.9814814814814815\n",
      "f1_score: 0.9814814814814815\n"
     ]
    }
   ],
   "source": [
    "svc = SVC(kernel='rbf', class_weight='balanced')\n",
    "model = make_pipeline(svc) \n",
    "\n",
    "'''파라미터 튜닝'''\n",
    "param_grid = {'svc__C': [1, 5, 10, 50],\n",
    "              'svc__gamma': [0.0001, 0.0005, 0.001, 0.005]}\n",
    "grid = GridSearchCV(model, param_grid) # (학습시킬 모델, 파라미터 후보들)\n",
    "\n",
    "%time grid.fit(X_train, y_train)\n",
    "print(grid.best_params_)\n",
    "\n",
    "'''X_test로 예측'''\n",
    "model = grid.best_estimator_\n",
    "y_pred = model.predict(X_test)\n",
    "\n",
    "'''4가지 지표로 평가'''\n",
    "print(\"Accuracy:\",metrics.accuracy_score(y_test, y_pred))\n",
    "print(\"Precision:\",metrics.precision_score(y_test, y_pred))\n",
    "print(\"Recall:\",metrics.recall_score(y_test, y_pred))\n",
    "print(\"f1_score:\",metrics.f1_score(y_test, y_pred))"
   ]
  },
  {
   "cell_type": "markdown",
   "id": "c0b09c83",
   "metadata": {},
   "source": [
    "#### 4. PCA와 Linear Kernel SVC 사용"
   ]
  },
  {
   "cell_type": "code",
   "execution_count": 6,
   "id": "3c6a1cfa",
   "metadata": {},
   "outputs": [],
   "source": [
    "# PCA 적용\n",
    "pca = RandomizedPCA(n_components=2, whiten=True, random_state=42)\n",
    "principalDf = pd.DataFrame(data=pca.fit_transform(cancer.data), columns = ['PC1', 'PC2'])\n",
    "principalDf['target'] = cancer.target\n",
    "X = principalDf.iloc[:,:2].values\n",
    "y = principalDf.iloc[:,2:].values\n",
    "\n",
    "X_train, X_test, y_train, y_test = train_test_split(X, y, test_size=0.3,random_state=109) # 70% training and 30% test"
   ]
  },
  {
   "cell_type": "code",
   "execution_count": 13,
   "id": "efe1e3fb",
   "metadata": {
    "scrolled": true
   },
   "outputs": [
    {
     "name": "stdout",
     "output_type": "stream",
     "text": [
      "Accuracy: 0.9649122807017544\n",
      "Precision: 0.9722222222222222\n",
      "Recall: 0.9722222222222222\n",
      "f1_score: 0.9722222222222222\n"
     ]
    }
   ],
   "source": [
    "# SVC 적용\n",
    "'''SVC 학습'''\n",
    "svc = SVC(kernel='linear', class_weight='balanced')\n",
    "svc.fit(X_train, y_train)\n",
    "\n",
    "'''X_test로 예측'''\n",
    "y_pred = svc.predict(X_test)\n",
    "\n",
    "'''4가지 지표로 평가'''\n",
    "print(\"Accuracy:\",metrics.accuracy_score(y_test, y_pred))\n",
    "print(\"Precision:\",metrics.precision_score(y_test, y_pred))\n",
    "print(\"Recall:\",metrics.recall_score(y_test, y_pred))\n",
    "print(\"f1_score:\",metrics.f1_score(y_test, y_pred))"
   ]
  },
  {
   "cell_type": "code",
   "execution_count": 14,
   "id": "c6a54ff0",
   "metadata": {},
   "outputs": [
    {
     "data": {
      "image/png": "[encoded data removed]",
      "text/plain": [
       "<Figure size 432x288 with 1 Axes>"
      ]
     },
     "metadata": {
      "needs_background": "light"
     },
     "output_type": "display_data"
    }
   ],
   "source": [
    "# 시각화\n",
    "plt.scatter(X[:,0], X[:,1], c=y, s=30, cmap=plt.cm.Paired)\n",
    "# 초평면(Hyper-Plane) 표현\n",
    "ax = plt.gca()\n",
    "xlim = ax.get_xlim()\n",
    "ylim = ax.get_ylim()\n",
    "xx = np.linspace(xlim[0], xlim[1], 30)\n",
    "yy = np.linspace(ylim[0], ylim[1], 30)\n",
    "YY, XX = np.meshgrid(yy, xx)\n",
    "xy = np.vstack([XX.ravel(), YY.ravel()]).T\n",
    "Z = svc.decision_function(xy).reshape(XX.shape)\n",
    "ax.contour(XX, YY, Z, colors='k', levels=[-1,0,1], alpha=0.5, linestyles=['--', '-', '--'])\n",
    "# 지지벡터(Support Vector) 표현\n",
    "ax.scatter(svc.support_vectors_[:,0], svc.support_vectors_[:,1], s=60, facecolors='r')\n",
    "plt.show()"
   ]
  },
  {
   "cell_type": "markdown",
   "id": "8b35d727",
   "metadata": {},
   "source": [
    "#### 5. PCA와 Polynomial Kernel SVC 사용"
   ]
  },
  {
   "cell_type": "code",
   "execution_count": 15,
   "id": "b682aaf9",
   "metadata": {},
   "outputs": [],
   "source": [
    "# PCA 적용\n",
    "pca = RandomizedPCA(n_components=2, whiten=True, random_state=42)\n",
    "principalDf = pd.DataFrame(data=pca.fit_transform(cancer.data), columns = ['PC1', 'PC2'])\n",
    "principalDf['target'] = cancer.target\n",
    "X = principalDf.iloc[:,:2].values\n",
    "y = principalDf.iloc[:,2:].values\n",
    "\n",
    "X_train, X_test, y_train, y_test = train_test_split(X, y, test_size=0.3,random_state=109) # 70% training and 30% test"
   ]
  },
  {
   "cell_type": "code",
   "execution_count": 16,
   "id": "9aaaf7a5",
   "metadata": {},
   "outputs": [
    {
     "name": "stdout",
     "output_type": "stream",
     "text": [
      "Accuracy: 0.8830409356725146\n",
      "Precision: 0.84375\n",
      "Recall: 1.0\n",
      "f1_score: 0.9152542372881356\n"
     ]
    }
   ],
   "source": [
    "# SVC 적용\n",
    "'''SVC 학습'''\n",
    "svc = SVC(kernel='poly', class_weight='balanced')\n",
    "svc.fit(X_train, y_train)\n",
    "\n",
    "'''X_test로 예측'''\n",
    "y_pred = svc.predict(X_test)\n",
    "\n",
    "'''4가지 지표로 평가'''\n",
    "print(\"Accuracy:\",metrics.accuracy_score(y_test, y_pred))\n",
    "print(\"Precision:\",metrics.precision_score(y_test, y_pred))\n",
    "print(\"Recall:\",metrics.recall_score(y_test, y_pred))\n",
    "print(\"f1_score:\",metrics.f1_score(y_test, y_pred))"
   ]
  },
  {
   "cell_type": "code",
   "execution_count": 17,
   "id": "43568324",
   "metadata": {},
   "outputs": [
    {
     "data": {
      "image/png": "[encoded data removed]",
      "text/plain": [
       "<Figure size 432x288 with 1 Axes>"
      ]
     },
     "metadata": {
      "needs_background": "light"
     },
     "output_type": "display_data"
    }
   ],
   "source": [
    "# 시각화\n",
    "plt.scatter(X[:,0], X[:,1], c=y, s=30, cmap=plt.cm.Paired)\n",
    "# 초평면(Hyper-Plane) 표현\n",
    "ax = plt.gca()\n",
    "xlim = ax.get_xlim()\n",
    "ylim = ax.get_ylim()\n",
    "xx = np.linspace(xlim[0], xlim[1], 30)\n",
    "yy = np.linspace(ylim[0], ylim[1], 30)\n",
    "YY, XX = np.meshgrid(yy, xx)\n",
    "xy = np.vstack([XX.ravel(), YY.ravel()]).T\n",
    "Z = svc.decision_function(xy).reshape(XX.shape)\n",
    "ax.contour(XX, YY, Z, colors='k', levels=[-1,0,1], alpha=0.5, linestyles=['--', '-', '--'])\n",
    "# 지지벡터(Support Vector) 표현\n",
    "ax.scatter(svc.support_vectors_[:,0], svc.support_vectors_[:,1], s=60, facecolors='r')\n",
    "plt.show()"
   ]
  },
  {
   "cell_type": "markdown",
   "id": "17696b26",
   "metadata": {},
   "source": [
    "#### 6. PCA와 RBF Kernel SVC 사용"
   ]
  },
  {
   "cell_type": "code",
   "execution_count": 18,
   "id": "cc5297a3",
   "metadata": {},
   "outputs": [],
   "source": [
    "# PCA 적용\n",
    "pca = RandomizedPCA(n_components=2, whiten=True, random_state=42)\n",
    "principalDf = pd.DataFrame(data=pca.fit_transform(cancer.data), columns = ['PC1', 'PC2'])\n",
    "principalDf['target'] = cancer.target\n",
    "X = principalDf.iloc[:,:2].values\n",
    "y = principalDf.iloc[:,2:].values\n",
    "\n",
    "X_train, X_test, y_train, y_test = train_test_split(X, y, test_size=0.3,random_state=109) # 70% training and 30% test"
   ]
  },
  {
   "cell_type": "code",
   "execution_count": 19,
   "id": "d3cc81e3",
   "metadata": {},
   "outputs": [
    {
     "name": "stdout",
     "output_type": "stream",
     "text": [
      "Accuracy: 0.9532163742690059\n",
      "Precision: 0.9545454545454546\n",
      "Recall: 0.9722222222222222\n",
      "f1_score: 0.963302752293578\n"
     ]
    }
   ],
   "source": [
    "# SVC 적용\n",
    "'''SVC 학습'''\n",
    "svc = SVC(kernel='rbf', class_weight='balanced')\n",
    "svc.fit(X_train, y_train)\n",
    "\n",
    "'''X_test로 예측'''\n",
    "y_pred = svc.predict(X_test)\n",
    "\n",
    "'''4가지 지표로 평가'''\n",
    "print(\"Accuracy:\",metrics.accuracy_score(y_test, y_pred))\n",
    "print(\"Precision:\",metrics.precision_score(y_test, y_pred))\n",
    "print(\"Recall:\",metrics.recall_score(y_test, y_pred))\n",
    "print(\"f1_score:\",metrics.f1_score(y_test, y_pred))"
   ]
  },
  {
   "cell_type": "code",
   "execution_count": 20,
   "id": "da469197",
   "metadata": {},
   "outputs": [
    {
     "data": {
      "image/png": "[encoded data removed]",
      "text/plain": [
       "<Figure size 432x288 with 1 Axes>"
      ]
     },
     "metadata": {
      "needs_background": "light"
     },
     "output_type": "display_data"
    }
   ],
   "source": [
    "# 시각화\n",
    "plt.scatter(X[:,0], X[:,1], c=y, s=30, cmap=plt.cm.Paired)\n",
    "# 초평면(Hyper-Plane) 표현\n",
    "ax = plt.gca()\n",
    "xlim = ax.get_xlim()\n",
    "ylim = ax.get_ylim()\n",
    "xx = np.linspace(xlim[0], xlim[1], 30)\n",
    "yy = np.linspace(ylim[0], ylim[1], 30)\n",
    "YY, XX = np.meshgrid(yy, xx)\n",
    "xy = np.vstack([XX.ravel(), YY.ravel()]).T\n",
    "Z = svc.decision_function(xy).reshape(XX.shape)\n",
    "ax.contour(XX, YY, Z, colors='k', levels=[-1,0,1], alpha=0.5, linestyles=['--', '-', '--'])\n",
    "# 지지벡터(Support Vector) 표현\n",
    "ax.scatter(svc.support_vectors_[:,0], svc.support_vectors_[:,1], s=60, facecolors='r')\n",
    "plt.show()"
   ]
  },
  {
   "cell_type": "markdown",
   "id": "3024318b",
   "metadata": {},
   "source": [
    "- 시각화 참고자료 \n",
    "\n",
    "http://www.gisdeveloper.co.kr/?p=8180\n",
    "\n",
    "- pipeline 참고자료 \n",
    "\n",
    "https://jakevdp.github.io/PythonDataScienceHandbook/05.07-support-vector-machines.html#Fitting-a-support-vector-machine"
   ]
  },
  {
   "cell_type": "code",
   "execution_count": null,
   "id": "2ba58464",
   "metadata": {},
   "outputs": [],
   "source": []
  }
 ],
 "metadata": {
  "kernelspec": {
   "display_name": "sps2021",
   "language": "python",
   "name": "tf-gpu2"
  },
  "language_info": {
   "codemirror_mode": {
    "name": "ipython",
    "version": 3
   },
   "file_extension": ".py",
   "mimetype": "text/x-python",
   "name": "python",
   "nbconvert_exporter": "python",
   "pygments_lexer": "ipython3",
   "version": "3.8.13"
  }
 },
 "nbformat": 4,
 "nbformat_minor": 5
}
