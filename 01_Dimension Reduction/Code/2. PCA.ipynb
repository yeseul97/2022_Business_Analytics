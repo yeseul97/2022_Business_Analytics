{
 "cells": [
  {
   "cell_type": "markdown",
   "id": "cc578c68",
   "metadata": {},
   "source": [
    "## Principle Component Analysis (PCA)\n",
    ": 가장 분산이 큰 방향으로 새롭게 축을 정의하여 차원 축소하는 방법"
   ]
  },
  {
   "cell_type": "markdown",
   "id": "ee72a352",
   "metadata": {},
   "source": [
    "[배경]\n",
    "- 독립변수(특성)들이 많을 경우, 유의미한 특성을 찾기 어려울 뿐더러 훈련을 느리게 해 결과적으로 성능 저하를 일으킴.\n",
    "- 이를 '차원의 저주'라고 함.\n",
    "\n",
    "[PCA의 원리]\n",
    "- 분산을 최대로 보존할 수 있는 축을 선택함으로써, 정보를 가장 적게 손실함.\n",
    "- 분산이 커야 데이터들 사이의 차이점이 명확해짐\n",
    "- 따라서, PCA에서는 분산이 최대인 축을 찾고 이 축에 직교하고 남은 분산을 최대한 보존하는 두번째 축을 찾음"
   ]
  },
  {
   "cell_type": "markdown",
   "id": "ccd411c1",
   "metadata": {},
   "source": [
    "### <PCA 분석의 단계>\n",
    "\n",
    "1. d차원 데이터셋을 표준화 전처리 (d는 특성 개수)\n",
    "\n",
    "\n",
    "2. 공분산 행렬(covariance matrix) 만듦\n",
    "\n",
    "\n",
    "3. 공분산 행렬을 고유 벡터(eigenvector)와 고윳값(eigenvalue)으로 분해\n",
    "\n",
    "\n",
    "4. 고윳값을 내림차순으로 정렬하고 그에 해당하는 고유 벡터의 순위 매김\n",
    "\n",
    "\n",
    "5. 고윳값이 가장 큰 k개의 고유 벡터를 선택. (k: 새로운 특성 부분 공간의 차원) ($k<=d$)\n",
    "\n",
    "\n",
    "6. 최상위 k개의 고유 벡터로 투영 행렬(projection matrix) $W$를 만듦\n",
    "\n",
    "\n",
    "7. 투영 행렬 $W$를 사용해서 d차원 입력 데이터셋 $X$를 새로운 k차원의 특성 부분 공간으로 변환"
   ]
  },
  {
   "cell_type": "code",
   "execution_count": 5,
   "id": "a9a8fdad",
   "metadata": {},
   "outputs": [],
   "source": [
    "# 기본 데이터 분석을 위한 Library\n",
    "import pandas as pd\n",
    "import numpy as np\n",
    "\n",
    "# 시각화 Library\n",
    "import matplotlib.pyplot as plt\n",
    "import seaborn as sns\n",
    "\n",
    "# Sklearn에 있는 기본 데이터셋을 가져오기 위한\n",
    "from sklearn import datasets\n",
    "\n",
    "from sklearn.model_selection import train_test_split"
   ]
  },
  {
   "cell_type": "code",
   "execution_count": 8,
   "id": "50ee4b83",
   "metadata": {},
   "outputs": [],
   "source": [
    "## 데이터 불러오기\n",
    "df_wine = datasets.load_wine()\n",
    "X, y = df_wine['data'], df_wine['target']\n",
    "\n",
    "X_train, X_test, y_train, y_test = train_test_split(X, y, test_size=0.3, stratify=y, random_state=0)"
   ]
  },
  {
   "cell_type": "markdown",
   "id": "ae14c622",
   "metadata": {},
   "source": [
    "### 1. 주성분 추출"
   ]
  },
  {
   "cell_type": "code",
   "execution_count": 9,
   "id": "02f5e005",
   "metadata": {},
   "outputs": [],
   "source": [
    "### 1. 데이터 표준화\n",
    "from sklearn.preprocessing import StandardScaler\n",
    "sc = StandardScaler()\n",
    "X_train_std = sc.fit_transform(X_train)\n",
    "X_test_std = sc.transform(X_test)"
   ]
  },
  {
   "cell_type": "code",
   "execution_count": 11,
   "id": "eb2e1276",
   "metadata": {},
   "outputs": [],
   "source": [
    "### 2. 공분산 행렬 구하기\n",
    "cov_mat = np.cov(X_train_std.T)"
   ]
  },
  {
   "cell_type": "code",
   "execution_count": 12,
   "id": "eea99d68",
   "metadata": {},
   "outputs": [
    {
     "name": "stdout",
     "output_type": "stream",
     "text": [
      "\n",
      "고윳값 \n",
      " [4.84274532 2.41602459 1.54845825 0.96120438 0.84166161 0.6620634\n",
      " 0.51828472 0.34650377 0.3131368  0.10754642 0.21357215 0.15362835\n",
      " 0.1808613 ]\n"
     ]
    }
   ],
   "source": [
    "### 3. 공분산 행렬의 고윳값과 고유 벡터 구하기\n",
    "eigen_vals, eigen_vecs = np.linalg.eig(cov_mat)\n",
    "print('\\n고윳값 \\n',eigen_vals)"
   ]
  },
  {
   "cell_type": "code",
   "execution_count": 16,
   "id": "f30dd8ee",
   "metadata": {},
   "outputs": [],
   "source": [
    "### 4. 고윳값을 내림차순으로 정렬\n",
    "tot = sum(eigen_vals)\n",
    "var_exp = [(i/tot) for i in sorted(eigen_vals, reverse=True)]\n",
    "cum_var_exp = np.cumsum(var_exp)"
   ]
  },
  {
   "cell_type": "code",
   "execution_count": 24,
   "id": "9e6ab71e",
   "metadata": {},
   "outputs": [
    {
     "data": {
      "image/png": "[encoded data removed]",
      "text/plain": [
       "<Figure size 432x288 with 1 Axes>"
      ]
     },
     "metadata": {
      "needs_background": "light"
     },
     "output_type": "display_data"
    }
   ],
   "source": [
    "'''첫 번째 주성분이 분산의 거의 40%를 커버하고 있음'''\n",
    "plt.bar(range(1,14), var_exp, alpha=0.5, align='center', label='individual explained variance')\n",
    "plt.step(range(1,14), cum_var_exp, where='mid', label='cumulative explained variance')\n",
    "plt.ylabel('Explained variance ratio')\n",
    "plt.xlabel('Principal component index')\n",
    "plt.legend(loc='best')\n",
    "plt.tight_layout()\n",
    "plt.show()"
   ]
  },
  {
   "cell_type": "markdown",
   "id": "a3be9195",
   "metadata": {},
   "source": [
    "### 2. 특성 변환"
   ]
  },
  {
   "cell_type": "code",
   "execution_count": 26,
   "id": "879798ca",
   "metadata": {},
   "outputs": [],
   "source": [
    "### 1. 고윳값이 가장 큰 k개의 고유 벡터 선택\n",
    "eigen_pairs = [(np.abs(eigen_vals[i]), eigen_vecs[:,i])\n",
    "              for i in range(len(eigen_vals))] # (고윳값, 고유 벡터) 튜플 리스트 만듦\n",
    "eigen_pairs.sort(key=lambda k: k[0], reverse=True) # 고윳값 기준 내림차순으로 정렬"
   ]
  },
  {
   "cell_type": "code",
   "execution_count": 27,
   "id": "96c0cc6f",
   "metadata": {},
   "outputs": [
    {
     "name": "stdout",
     "output_type": "stream",
     "text": [
      "투영 행렬 W:\n",
      " [[-0.13724218  0.50303478]\n",
      " [ 0.24724326  0.16487119]\n",
      " [-0.02545159  0.24456476]\n",
      " [ 0.20694508 -0.11352904]\n",
      " [-0.15436582  0.28974518]\n",
      " [-0.39376952  0.05080104]\n",
      " [-0.41735106 -0.02287338]\n",
      " [ 0.30572896  0.09048885]\n",
      " [-0.30668347  0.00835233]\n",
      " [ 0.07554066  0.54977581]\n",
      " [-0.32613263 -0.20716433]\n",
      " [-0.36861022 -0.24902536]\n",
      " [-0.29669651  0.38022942]]\n"
     ]
    }
   ],
   "source": [
    "### 2. 최상위 k개의 고유 벡터로 투영 행렬 W를 만듦\n",
    "W = np.hstack((eigen_pairs[0][1][:, np.newaxis],\n",
    "              eigen_pairs[1][1][:, np.newaxis])) # k=2\n",
    "print('투영 행렬 W:\\n', W)"
   ]
  },
  {
   "cell_type": "code",
   "execution_count": 29,
   "id": "77c3db2a",
   "metadata": {},
   "outputs": [
    {
     "data": {
      "image/png": "[encoded data removed]",
      "text/plain": [
       "<Figure size 432x288 with 1 Axes>"
      ]
     },
     "metadata": {
      "needs_background": "light"
     },
     "output_type": "display_data"
    }
   ],
   "source": [
    "### 3. 투영 행렬 W를 사용하여 d차원을 k차원으로 변환 (시각화)\n",
    "X_train_pca = X_train_std.dot(W)\n",
    "\n",
    "colors = ['r', 'b', 'g']\n",
    "markers = ['s', 'x', 'o']\n",
    "for l, c, m in zip(np.unique(y_train), colors, markers):\n",
    "    plt.scatter(X_train_pca[y_train==l, 0],\n",
    "               X_train_pca[y_train==l, 1],\n",
    "               c=c, label=l, marker=m)\n",
    "plt.xlabel('PC 1')\n",
    "plt.ylabel('PC 2')\n",
    "plt.legend(loc='lower left')\n",
    "plt.tight_layout()\n",
    "plt.show()"
   ]
  }
 ],
 "metadata": {
  "kernelspec": {
   "display_name": "sps2021",
   "language": "python",
   "name": "tf-gpu2"
  },
  "language_info": {
   "codemirror_mode": {
    "name": "ipython",
    "version": 3
   },
   "file_extension": ".py",
   "mimetype": "text/x-python",
   "name": "python",
   "nbconvert_exporter": "python",
   "pygments_lexer": "ipython3",
   "version": "3.8.13"
  }
 },
 "nbformat": 4,
 "nbformat_minor": 5
}
