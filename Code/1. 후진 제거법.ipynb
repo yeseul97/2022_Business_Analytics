{
 "cells": [
  {
   "cell_type": "markdown",
   "id": "23a5620a",
   "metadata": {},
   "source": [
    "## 후진 제거법\n",
    ": 모든 독립변수를 고려한 모델에서 유의하지 않는 독립변수를 하나씩 제거하는 방법"
   ]
  },
  {
   "cell_type": "markdown",
   "id": "90bf8385",
   "metadata": {},
   "source": [
    "### 1. 데이터셋 불러오기 (Wine)"
   ]
  },
  {
   "cell_type": "code",
   "execution_count": 27,
   "id": "fd279d11",
   "metadata": {},
   "outputs": [],
   "source": [
    "from sklearn import datasets\n",
    "import pandas as pd\n",
    "wine = datasets.load_wine()\n",
    "X, y = wine['data'], wine['target']"
   ]
  },
  {
   "cell_type": "code",
   "execution_count": 28,
   "id": "9026bbe8",
   "metadata": {},
   "outputs": [],
   "source": [
    "from sklearn.model_selection import train_test_split\n",
    "X_train, X_test, y_train, y_test = train_test_split(X, y, \n",
    "                                                   test_size=0.3,\n",
    "                                                   random_state=0,\n",
    "                                                   stratify=y)"
   ]
  },
  {
   "cell_type": "code",
   "execution_count": 29,
   "id": "6cf62c59",
   "metadata": {},
   "outputs": [],
   "source": [
    "from sklearn.preprocessing import StandardScaler\n",
    "stdsc = StandardScaler()\n",
    "X_train_std = stdsc.fit_transform(X_train)\n",
    "X_test_std = stdsc.transform(X_test)"
   ]
  },
  {
   "cell_type": "markdown",
   "id": "34b2aeb9",
   "metadata": {},
   "source": [
    "### 2. SBS 알고리즘 "
   ]
  },
  {
   "cell_type": "code",
   "execution_count": 31,
   "id": "d76fe179",
   "metadata": {},
   "outputs": [],
   "source": [
    "from sklearn.base import clone \n",
    "from itertools import combinations\n",
    "import numpy as np\n",
    "from sklearn.metrics import accuracy_score\n",
    "from sklearn.model_selection import train_test_split\n",
    "\n",
    "# warining 무시\n",
    "import warnings\n",
    "warnings.filterwarnings('ignore')"
   ]
  },
  {
   "cell_type": "code",
   "execution_count": 9,
   "id": "a7598a59",
   "metadata": {},
   "outputs": [],
   "source": [
    "class SBS():\n",
    "    def __init__(self, estimator, k_features,\n",
    "                scoring=accuracy_score,\n",
    "                test_size=0.25, random_state=1):\n",
    "        self.scoring  = scoring # 모델 성능 평가용\n",
    "        self.estimator = clone(estimator) # 테스트할 모델\n",
    "        self.k_features = k_features # 목표하는 특정 개수 \n",
    "        self.test_size = test_size\n",
    "        self.random_state = random_state\n",
    "        \n",
    "    def fit(self, X, y):\n",
    "        X_train, X_test, y_train, y_test = train_test_split(X, y, test_size=self.test_size,\n",
    "                                                           random_state = self.random_state)\n",
    "        \n",
    "        dim = X_train.shape[1]\n",
    "        self.indices_ = tuple(range(dim))\n",
    "        self.subsets_ = [self.indices_]\n",
    "        score = self._calc_score(X_train, y_train, \n",
    "                                X_test, y_test, self.indices_)\n",
    "        self.scores_ = [score]\n",
    "        \n",
    "        while dim > self.k_features:\n",
    "            scores = []\n",
    "            subsets = []\n",
    "            \n",
    "            for p in combinations(self.indices_, r=dim-1):\n",
    "                '''원하는 개수까지 축소하며 생성된 모든 특성 조합 평가'''\n",
    "                score = self._calc_score(X_train, y_train,\n",
    "                                        X_test, y_test, p)\n",
    "                scores.append(score)\n",
    "                subsets.append(p)\n",
    "                \n",
    "            best = np.argmax(scores)\n",
    "            self.indices_ = subsets[best] # index 활용하여 score 높은 조합 저장\n",
    "            self.subsets_.append(self.indices_) # 총괄 subsets_에 저장\n",
    "            dim -= 1 # 조합 개수 하나씩 줄이기\n",
    "            self.scores_.append(scores[best])# index 활용하여 score 높은 거 저장\n",
    "        self.k_score_ = self.scores_[-1]\n",
    "        \n",
    "        return self\n",
    "    \n",
    "    def transform(self,X):\n",
    "        return X[:, self.indices_]\n",
    "    \n",
    "    def _calc_score(self, X_train, y_train, X_test, y_test, \n",
    "                   indices):\n",
    "        self.estimator.fit(X_train[:, indices], y_train)\n",
    "        y_pred = self.estimator.predict(X_test[:,indices])\n",
    "        score = self.scoring(y_test, y_pred)\n",
    "        return score"
   ]
  },
  {
   "cell_type": "markdown",
   "id": "1af7f253",
   "metadata": {},
   "source": [
    "### 3. 성능 평가"
   ]
  },
  {
   "cell_type": "code",
   "execution_count": null,
   "id": "b2f3c93b",
   "metadata": {},
   "outputs": [],
   "source": [
    "## KNN분류기로 SBS 구현이 잘 작동하는지 확인\n",
    "'''후진 제거법을 적용해, 크기가 작아진 데이터셋에서도 성능이 크게 떨어지지 않음'''"
   ]
  },
  {
   "cell_type": "code",
   "execution_count": 10,
   "id": "ee955182",
   "metadata": {},
   "outputs": [],
   "source": [
    "import matplotlib.pyplot as plt\n",
    "from sklearn.neighbors import KNeighborsClassifier"
   ]
  },
  {
   "cell_type": "code",
   "execution_count": 11,
   "id": "4766bee9",
   "metadata": {},
   "outputs": [],
   "source": [
    "knn = KNeighborsClassifier(n_neighbors=5)"
   ]
  },
  {
   "cell_type": "code",
   "execution_count": 12,
   "id": "22958ea5",
   "metadata": {},
   "outputs": [],
   "source": [
    "sbs = SBS(knn, k_features=1)"
   ]
  },
  {
   "cell_type": "code",
   "execution_count": 32,
   "id": "8e5223b1",
   "metadata": {},
   "outputs": [
    {
     "data": {
      "text/plain": [
       "<__main__.SBS at 0x231b5ba0c40>"
      ]
     },
     "execution_count": 32,
     "metadata": {},
     "output_type": "execute_result"
    }
   ],
   "source": [
    "sbs.fit(X_train_std, y_train)"
   ]
  },
  {
   "cell_type": "code",
   "execution_count": 36,
   "id": "32fa6b67",
   "metadata": {},
   "outputs": [
    {
     "data": {
      "image/png": "[encoded data removed]",
      "text/plain": [
       "<Figure size 432x288 with 1 Axes>"
      ]
     },
     "metadata": {
      "needs_background": "light"
     },
     "output_type": "display_data"
    }
   ],
   "source": [
    "'''각 단계에서 가장 좋은 특성 조합의 점수 plot'''\n",
    "\n",
    "k_feat = [len(k) for k in sbs.subsets_] # 부분집합의 길이\n",
    "\n",
    "plt.plot(k_feat, sbs.scores_, marker='o')\n",
    "plt.ylabel('Accuracy')\n",
    "plt.xlabel('Number of features')\n",
    "plt.grid()\n",
    "plt.tight_layout()\n",
    "plt.show() # k=3"
   ]
  },
  {
   "cell_type": "code",
   "execution_count": 37,
   "id": "bcf3d7dd",
   "metadata": {},
   "outputs": [
    {
     "name": "stdout",
     "output_type": "stream",
     "text": [
      "Index(['malic_acid', 'ash', 'proline'], dtype='object')\n"
     ]
    }
   ],
   "source": [
    "'''가장 작은 개수의 조합(k=3)에서 높은 성능을 내는 특성 확인'''\n",
    "k3 = list(sbs.subsets_[10]) # 3개의 컬럼 저장\n",
    "print(df_wine.columns[1:][k3])"
   ]
  },
  {
   "cell_type": "code",
   "execution_count": 42,
   "id": "e239d33c",
   "metadata": {},
   "outputs": [
    {
     "name": "stdout",
     "output_type": "stream",
     "text": [
      "훈련 정확도: 0.967741935483871\n",
      "테스트 정확도: 0.9629629629629629\n"
     ]
    }
   ],
   "source": [
    "'''테스트 세트에서의 KNN 분류기 성능 평가'''\n",
    "knn.fit(X_train_std, y_train)\n",
    "print('훈련 정확도:', knn.score(X_train_std, y_train))\n",
    "print('테스트 정확도:', knn.score(X_test_std, y_test))"
   ]
  },
  {
   "cell_type": "code",
   "execution_count": 43,
   "id": "e994b867",
   "metadata": {},
   "outputs": [
    {
     "name": "stdout",
     "output_type": "stream",
     "text": [
      "훈련 정확도: 0.9516129032258065\n",
      "테스트 정확도: 0.9259259259259259\n"
     ]
    }
   ],
   "source": [
    "'''선택된 3개의 특성에서 KNN 성능 확인'''\n",
    "knn.fit(X_train_std[:, k3], y_train)\n",
    "print('훈련 정확도:', knn.score(X_train_std[:,k3], y_train))\n",
    "print('테스트 정확도:', knn.score(X_test_std[:, k3], y_test))"
   ]
  }
 ],
 "metadata": {
  "kernelspec": {
   "display_name": "sps2021",
   "language": "python",
   "name": "tf-gpu2"
  },
  "language_info": {
   "codemirror_mode": {
    "name": "ipython",
    "version": 3
   },
   "file_extension": ".py",
   "mimetype": "text/x-python",
   "name": "python",
   "nbconvert_exporter": "python",
   "pygments_lexer": "ipython3",
   "version": "3.8.13"
  }
 },
 "nbformat": 4,
 "nbformat_minor": 5
}
